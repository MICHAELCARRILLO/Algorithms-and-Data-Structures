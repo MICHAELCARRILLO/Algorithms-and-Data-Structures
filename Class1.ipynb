{
  "nbformat": 4,
  "nbformat_minor": 0,
  "metadata": {
    "colab": {
      "name": "Class1.ipynb",
      "provenance": [],
      "collapsed_sections": [],
      "toc_visible": true,
      "authorship_tag": "ABX9TyPmV4jZSlI7wB211auRQr2W",
      "include_colab_link": true
    },
    "kernelspec": {
      "name": "python3",
      "display_name": "Python 3"
    },
    "language_info": {
      "name": "python"
    }
  },
  "cells": [
    {
      "cell_type": "markdown",
      "metadata": {
        "id": "view-in-github",
        "colab_type": "text"
      },
      "source": [
        "<a href=\"https://colab.research.google.com/github/MICHAELCARRILLO/Algorithms-and-Data-Structures/blob/main/Class1.ipynb\" target=\"_parent\"><img src=\"https://colab.research.google.com/assets/colab-badge.svg\" alt=\"Open In Colab\"/></a>"
      ]
    },
    {
      "cell_type": "markdown",
      "metadata": {
        "id": "fISK_LHnFhQ0"
      },
      "source": [
        ""
      ]
    },
    {
      "cell_type": "markdown",
      "metadata": {
        "id": "lOkViNORFh31"
      },
      "source": [
        "#Clase 1\n"
      ]
    },
    {
      "cell_type": "markdown",
      "metadata": {
        "id": "pfu7OiPTN8wb"
      },
      "source": [
        "##Introduction"
      ]
    },
    {
      "cell_type": "code",
      "metadata": {
        "id": "sc6J19bx4TAV",
        "colab": {
          "base_uri": "https://localhost:8080/"
        },
        "outputId": "d2529fe2-b52c-4c0c-93eb-9b40210e220c"
      },
      "source": [
        "%%writefile class1.cpp\n",
        "#include<iostream>\n",
        "using namespace std;\n",
        "\n",
        "int main()\n",
        "{\n",
        "    cout<<\"Hello world!\";\n",
        "    return 0;\n",
        "}"
      ],
      "execution_count": 57,
      "outputs": [
        {
          "output_type": "stream",
          "text": [
            "Overwriting class1.cpp\n"
          ],
          "name": "stdout"
        }
      ]
    },
    {
      "cell_type": "code",
      "metadata": {
        "id": "ZSOxmtkr8rxQ"
      },
      "source": [
        "#En este apartado SOLO se esta compilando (creacion de archivo a.out en files) \n",
        "#El compilador se llama g++     \n",
        "!g++ class1.cpp"
      ],
      "execution_count": 58,
      "outputs": []
    },
    {
      "cell_type": "code",
      "metadata": {
        "colab": {
          "base_uri": "https://localhost:8080/"
        },
        "id": "xg_zus0A9ylR",
        "outputId": "b4ae02e9-4113-4ea0-e269-54d470b0a0d4"
      },
      "source": [
        "#Ejecucion del binario creado (a.out)\n",
        "#El simbolo '!' significa: Ejecutar comando de shell \n",
        "\n",
        "!./a.out\n",
        "\n",
        "#En visual studio, el triagulo para ejecutar el programa hace literalmente esto: \n",
        "# !g++ class1.cpp && ./a.out\n",
        "#Osea, compila y ejecuta con ese boton"
      ],
      "execution_count": 59,
      "outputs": [
        {
          "output_type": "stream",
          "text": [
            "Hello world!"
          ],
          "name": "stdout"
        }
      ]
    },
    {
      "cell_type": "code",
      "metadata": {
        "colab": {
          "base_uri": "https://localhost:8080/"
        },
        "id": "6KEba1_a_bHx",
        "outputId": "46d16c50-fe5f-4c7f-fb6c-b326712314f6"
      },
      "source": [
        "#Compilar y ejecutar en una sola linea\n",
        "!g++ class1.cpp && ./a.out"
      ],
      "execution_count": 60,
      "outputs": [
        {
          "output_type": "stream",
          "text": [
            "Hello world!"
          ],
          "name": "stdout"
        }
      ]
    },
    {
      "cell_type": "code",
      "metadata": {
        "colab": {
          "base_uri": "https://localhost:8080/"
        },
        "id": "CmLb7_Z7ANpa",
        "outputId": "3c1069fe-b6c7-4c39-8772-2a473b800314"
      },
      "source": [
        "# despues, decimos que '-o' osea, la salida o binario quiero que se llame 's' y despues solo ejecutamos\n",
        "#Lo que hacemos aqui es, simplemente, llamar al compilador, creamos un objecto del archivo class1.cpp\n",
        "!g++ class1.cpp -o s && ./s"
      ],
      "execution_count": 61,
      "outputs": [
        {
          "output_type": "stream",
          "text": [
            "Hello world!"
          ],
          "name": "stdout"
        }
      ]
    },
    {
      "cell_type": "code",
      "metadata": {
        "colab": {
          "base_uri": "https://localhost:8080/"
        },
        "id": "NhY7kF5tBKzx",
        "outputId": "16093ac4-396d-4cd0-c020-15d93a05e3a3"
      },
      "source": [
        "!g++ class1.cpp -o s && ./s"
      ],
      "execution_count": 62,
      "outputs": [
        {
          "output_type": "stream",
          "text": [
            "Hello world!"
          ],
          "name": "stdout"
        }
      ]
    },
    {
      "cell_type": "code",
      "metadata": {
        "colab": {
          "base_uri": "https://localhost:8080/"
        },
        "id": "BHvCTp3XBTZI",
        "outputId": "388ba1da-fa7c-4de7-fb23-4aa835c1e993"
      },
      "source": [
        "%%writefile example.cpp\n",
        "\n",
        "#include<iostream>\n",
        "\n",
        "using namespace std;\n",
        "\n",
        "\n",
        "int main()\n",
        "{\n",
        "    \n",
        "  int n;\n",
        " \n",
        "  cout<<\"Ingrese un numero: \";\n",
        "  cin>>n;\n",
        " \n",
        "  cout<<\"El numero es: \"<<n<<endl;\n",
        "\n",
        "\n",
        "    return 0;\n",
        "}"
      ],
      "execution_count": 63,
      "outputs": [
        {
          "output_type": "stream",
          "text": [
            "Overwriting example.cpp\n"
          ],
          "name": "stdout"
        }
      ]
    },
    {
      "cell_type": "code",
      "metadata": {
        "colab": {
          "base_uri": "https://localhost:8080/"
        },
        "id": "Ty9EwJWADgfs",
        "outputId": "28ac1bb7-4cbe-46cb-ecd0-3e19503cf299"
      },
      "source": [
        "!g++ example.cpp -o s && ./s"
      ],
      "execution_count": 64,
      "outputs": [
        {
          "output_type": "stream",
          "text": [
            "Ingrese un numero: 5\n",
            "El numero es: 5\n"
          ],
          "name": "stdout"
        }
      ]
    },
    {
      "cell_type": "code",
      "metadata": {
        "colab": {
          "base_uri": "https://localhost:8080/"
        },
        "id": "SD4zCjTeEX7B",
        "outputId": "2957e672-61c4-4c94-bad6-c6563741680f"
      },
      "source": [
        "!g++ example.cpp && ./a.out"
      ],
      "execution_count": 65,
      "outputs": [
        {
          "output_type": "stream",
          "text": [
            "Ingrese un numero: 8\n",
            "El numero es: 8\n"
          ],
          "name": "stdout"
        }
      ]
    },
    {
      "cell_type": "code",
      "metadata": {
        "colab": {
          "base_uri": "https://localhost:8080/"
        },
        "id": "c120xlB_EdzA",
        "outputId": "605ed349-fbe3-4ed5-cf6c-f8700466d068"
      },
      "source": [
        "!g++ example.cpp -o s && ./s"
      ],
      "execution_count": 66,
      "outputs": [
        {
          "output_type": "stream",
          "text": [
            "Ingrese un numero: 8\n",
            "El numero es: 8\n"
          ],
          "name": "stdout"
        }
      ]
    },
    {
      "cell_type": "markdown",
      "metadata": {
        "id": "D5ht9Xr5OBYy"
      },
      "source": [
        "##Templates"
      ]
    },
    {
      "cell_type": "code",
      "metadata": {
        "id": "OZPSGnXHOCo3"
      },
      "source": [
        ""
      ],
      "execution_count": 67,
      "outputs": []
    }
  ]
}