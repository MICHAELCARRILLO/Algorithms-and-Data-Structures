{
  "nbformat": 4,
  "nbformat_minor": 0,
  "metadata": {
    "colab": {
      "name": "Class1.ipynb",
      "provenance": [],
      "collapsed_sections": [],
      "toc_visible": true,
      "authorship_tag": "ABX9TyOeFbmDeOdEYIdugwbrfqWH"
    },
    "kernelspec": {
      "name": "python3",
      "display_name": "Python 3"
    },
    "language_info": {
      "name": "python"
    }
  },
  "cells": [
    {
      "cell_type": "markdown",
      "metadata": {
        "id": "fISK_LHnFhQ0"
      },
      "source": [
        ""
      ]
    },
    {
      "cell_type": "markdown",
      "metadata": {
        "id": "lOkViNORFh31"
      },
      "source": [
        "#Clase 1\n"
      ]
    },
    {
      "cell_type": "markdown",
      "metadata": {
        "id": "pfu7OiPTN8wb"
      },
      "source": [
        "##Introduction"
      ]
    },
    {
      "cell_type": "code",
      "metadata": {
        "id": "sc6J19bx4TAV",
        "colab": {
          "base_uri": "https://localhost:8080/"
        },
        "outputId": "d2529fe2-b52c-4c0c-93eb-9b40210e220c"
      },
      "source": [
        "%%writefile class1.cpp\n",
        "#include<iostream>\n",
        "using namespace std;\n",
        "\n",
        "int main()\n",
        "{\n",
        "    cout<<\"Hello world!\";\n",
        "    return 0;\n",
        "}"
      ],
      "execution_count": null,
      "outputs": [
        {
          "output_type": "stream",
          "text": [
            "Overwriting class1.cpp\n"
          ],
          "name": "stdout"
        }
      ]
    },
    {
      "cell_type": "code",
      "metadata": {
        "id": "ZSOxmtkr8rxQ"
      },
      "source": [
        "#En este apartado SOLO se esta compilando (creacion de archivo a.out en files) \n",
        "#El compilador se llama g++     \n",
        "!g++ class1.cpp"
      ],
      "execution_count": null,
      "outputs": []
    },
    {
      "cell_type": "code",
      "metadata": {
        "colab": {
          "base_uri": "https://localhost:8080/"
        },
        "id": "xg_zus0A9ylR",
        "outputId": "b4ae02e9-4113-4ea0-e269-54d470b0a0d4"
      },
      "source": [
        "#Ejecucion del binario creado (a.out)\n",
        "#El simbolo '!' significa: Ejecutar comando de shell \n",
        "\n",
        "!./a.out\n",
        "\n",
        "#En visual studio, el triagulo para ejecutar el programa hace literalmente esto: \n",
        "# !g++ class1.cpp && ./a.out\n",
        "#Osea, compila y ejecuta con ese boton"
      ],
      "execution_count": null,
      "outputs": [
        {
          "output_type": "stream",
          "text": [
            "Hello world!"
          ],
          "name": "stdout"
        }
      ]
    },
    {
      "cell_type": "code",
      "metadata": {
        "colab": {
          "base_uri": "https://localhost:8080/"
        },
        "id": "6KEba1_a_bHx",
        "outputId": "46d16c50-fe5f-4c7f-fb6c-b326712314f6"
      },
      "source": [
        "#Compilar y ejecutar en una sola linea\n",
        "!g++ class1.cpp && ./a.out"
      ],
      "execution_count": null,
      "outputs": [
        {
          "output_type": "stream",
          "text": [
            "Hello world!"
          ],
          "name": "stdout"
        }
      ]
    },
    {
      "cell_type": "code",
      "metadata": {
        "colab": {
          "base_uri": "https://localhost:8080/"
        },
        "id": "CmLb7_Z7ANpa",
        "outputId": "3c1069fe-b6c7-4c39-8772-2a473b800314"
      },
      "source": [
        "# despues, decimos que '-o' osea, la salida o binario quiero que se llame 's' y despues solo ejecutamos\n",
        "#Lo que hacemos aqui es, simplemente, llamar al compilador, creamos un objecto del archivo class1.cpp\n",
        "!g++ class1.cpp -o s && ./s"
      ],
      "execution_count": null,
      "outputs": [
        {
          "output_type": "stream",
          "text": [
            "Hello world!"
          ],
          "name": "stdout"
        }
      ]
    },
    {
      "cell_type": "code",
      "metadata": {
        "colab": {
          "base_uri": "https://localhost:8080/"
        },
        "id": "NhY7kF5tBKzx",
        "outputId": "16093ac4-396d-4cd0-c020-15d93a05e3a3"
      },
      "source": [
        "!g++ class1.cpp -o s && ./s"
      ],
      "execution_count": null,
      "outputs": [
        {
          "output_type": "stream",
          "text": [
            "Hello world!"
          ],
          "name": "stdout"
        }
      ]
    },
    {
      "cell_type": "code",
      "metadata": {
        "colab": {
          "base_uri": "https://localhost:8080/"
        },
        "id": "BHvCTp3XBTZI",
        "outputId": "388ba1da-fa7c-4de7-fb23-4aa835c1e993"
      },
      "source": [
        "%%writefile example.cpp\n",
        "\n",
        "#include<iostream>\n",
        "\n",
        "using namespace std;\n",
        "\n",
        "\n",
        "int main()\n",
        "{\n",
        "    \n",
        "  int n;\n",
        " \n",
        "  cout<<\"Ingrese un numero: \";\n",
        "  cin>>n;\n",
        " \n",
        "  cout<<\"El numero es: \"<<n<<endl;\n",
        "\n",
        "\n",
        "    return 0;\n",
        "}"
      ],
      "execution_count": null,
      "outputs": [
        {
          "output_type": "stream",
          "text": [
            "Overwriting example.cpp\n"
          ],
          "name": "stdout"
        }
      ]
    },
    {
      "cell_type": "code",
      "metadata": {
        "colab": {
          "base_uri": "https://localhost:8080/"
        },
        "id": "Ty9EwJWADgfs",
        "outputId": "28ac1bb7-4cbe-46cb-ecd0-3e19503cf299"
      },
      "source": [
        "!g++ example.cpp -o s && ./s"
      ],
      "execution_count": null,
      "outputs": [
        {
          "output_type": "stream",
          "text": [
            "Ingrese un numero: 5\n",
            "El numero es: 5\n"
          ],
          "name": "stdout"
        }
      ]
    },
    {
      "cell_type": "code",
      "metadata": {
        "colab": {
          "base_uri": "https://localhost:8080/"
        },
        "id": "SD4zCjTeEX7B",
        "outputId": "2957e672-61c4-4c94-bad6-c6563741680f"
      },
      "source": [
        "!g++ example.cpp && ./a.out"
      ],
      "execution_count": null,
      "outputs": [
        {
          "output_type": "stream",
          "text": [
            "Ingrese un numero: 8\n",
            "El numero es: 8\n"
          ],
          "name": "stdout"
        }
      ]
    },
    {
      "cell_type": "code",
      "metadata": {
        "colab": {
          "base_uri": "https://localhost:8080/"
        },
        "id": "c120xlB_EdzA",
        "outputId": "605ed349-fbe3-4ed5-cf6c-f8700466d068"
      },
      "source": [
        "!g++ example.cpp -o s && ./s"
      ],
      "execution_count": null,
      "outputs": [
        {
          "output_type": "stream",
          "text": [
            "Ingrese un numero: 8\n",
            "El numero es: 8\n"
          ],
          "name": "stdout"
        }
      ]
    },
    {
      "cell_type": "markdown",
      "metadata": {
        "id": "D5ht9Xr5OBYy"
      },
      "source": [
        "##Templates"
      ]
    },
    {
      "cell_type": "code",
      "metadata": {
        "colab": {
          "base_uri": "https://localhost:8080/"
        },
        "id": "OZPSGnXHOCo3",
        "outputId": "66adc973-4f67-42dc-93fd-5a240d4cdf1a"
      },
      "source": [
        "%%writefile templates.cpp\n",
        "\n",
        "#include<iostream>\n",
        "using namespace std;\n",
        "\n",
        "\n",
        "class Operations\n",
        "{\n",
        "  int n1, n2;\n",
        " public: \n",
        "\n",
        "    Operations(int _n1, int _n2)\n",
        "    {\n",
        "        n1 = _n1;\n",
        "        n2 = _n2;\n",
        "    }\n",
        "\n",
        "    Operations(int _n1)\n",
        "    {\n",
        "        n1 = _n1;\n",
        "        n2 = 0;\n",
        "    }\n",
        "\n",
        "    Operations()\n",
        "    {\n",
        "        n1 = 0;\n",
        "        n2 = 0;\n",
        "    }\n",
        " \n",
        "    void Show()\n",
        "    {\n",
        "      cout<<\"N1: \"<<n1<<endl;\n",
        "      cout<<\"N2: \"<<n2<<endl;\n",
        "      cout<<endl;\n",
        "     \n",
        "    }\n",
        "};\n",
        "\n",
        "\n",
        "\n",
        "int main()\n",
        "{\n",
        "    Operations o1;\n",
        "    Operations o2(2);\n",
        "    Operations o3(2, 5);\n",
        " \n",
        "    o1.Show();\n",
        "    o2.Show();\n",
        "    o3.Show();\n",
        "}\n"
      ],
      "execution_count": null,
      "outputs": [
        {
          "output_type": "stream",
          "text": [
            "Overwriting templates.cpp\n"
          ],
          "name": "stdout"
        }
      ]
    },
    {
      "cell_type": "code",
      "metadata": {
        "colab": {
          "base_uri": "https://localhost:8080/"
        },
        "id": "QMjJ6sV7UUdN",
        "outputId": "8792cca0-a91f-406d-de6e-a5695fb745ba"
      },
      "source": [
        "!g++ templates.cpp -o s && ./s"
      ],
      "execution_count": null,
      "outputs": [
        {
          "output_type": "stream",
          "text": [
            "N1: 0\n",
            "N2: 0\n",
            "\n",
            "N1: 2\n",
            "N2: 0\n",
            "\n",
            "N1: 2\n",
            "N2: 5\n",
            "\n"
          ],
          "name": "stdout"
        }
      ]
    },
    {
      "cell_type": "code",
      "metadata": {
        "colab": {
          "base_uri": "https://localhost:8080/"
        },
        "id": "lw_0klnNUfeY",
        "outputId": "3696df59-41fe-4d52-dc17-bc3af6c1d62e"
      },
      "source": [
        "%%writefile templates1.cpp\n",
        "\n",
        "#include<iostream>\n",
        "using namespace std;\n",
        "\n",
        "typedef unsigned long long lg;\n",
        "\n",
        "class Operations\n",
        "{\n",
        "  short n1, n2;\n",
        "  public: \n",
        "\n",
        "    Operations(short _n1 = 0, short _n2 = 0) : n1(_n1), n2(_n2){} // llamamos al constructor de n1 y n2\n",
        "    short Add() { return n1 + n2; }\n",
        " \n",
        "};\n",
        "\n",
        "class Operations1\n",
        "{\n",
        "   float n1, n2;\n",
        "  public: \n",
        "\n",
        "    Operations1(float _n1 = 0, float _n2 = 0) : n1(_n1), n2(_n2){} // llamamos al constructor de n1 y n2\n",
        "    float  Add() { return n1 + n2; }\n",
        " \n",
        "};\n",
        "\n",
        "class Operations2\n",
        "{\n",
        "   lg n1, n2;\n",
        "  public: \n",
        "\n",
        "    Operations2(lg _n1 = 0, lg _n2 = 0) : n1(_n1), n2(_n2){} // llamamos al constructor de n1 y n2\n",
        "    lg  Add() { return n1 + n2; }\n",
        " \n",
        "};\n",
        "\n",
        "int main()\n",
        "{\n",
        "    Operations o1(5, 2); // short\n",
        "    Operations1 o2(554.44, 4656.86); // float \n",
        "    Operations2 o3(55455, 4656845); // lg\n",
        " \n",
        "\n",
        "    cout<<o1.Add()<<endl;\n",
        "    cout<<o2.Add()<<endl; \n",
        "    cout<<o3.Add()<<endl; \n",
        " \n",
        "}\n"
      ],
      "execution_count": 17,
      "outputs": [
        {
          "output_type": "stream",
          "name": "stdout",
          "text": [
            "Overwriting templates1.cpp\n"
          ]
        }
      ]
    },
    {
      "cell_type": "code",
      "metadata": {
        "colab": {
          "base_uri": "https://localhost:8080/"
        },
        "id": "a_v_raCzVUti",
        "outputId": "af5e8801-e59c-4e5b-8c08-915ad65e4296"
      },
      "source": [
        "!g++ templates1.cpp -o s && ./s"
      ],
      "execution_count": 18,
      "outputs": [
        {
          "output_type": "stream",
          "name": "stdout",
          "text": [
            "7\n",
            "5211.3\n",
            "4712300\n"
          ]
        }
      ]
    },
    {
      "cell_type": "code",
      "metadata": {
        "id": "UwgUyYCnVegA",
        "colab": {
          "base_uri": "https://localhost:8080/"
        },
        "outputId": "f10c5aee-17e7-4c78-fe6d-503bf10c56a7"
      },
      "source": [
        "%%writefile templates2.cpp\n",
        "\n",
        "#include<iostream>\n",
        "using namespace std;\n",
        "\n",
        "typedef unsigned long long lg;\n",
        "\n",
        "// los templates sirven para generalizar la tipologia de datos en tiempo de ejecucion\n",
        "\n",
        "template<class TIPO>\n",
        "\n",
        "class Operations\n",
        "{\n",
        "  TIPO n1, n2;\n",
        "  public: \n",
        "\n",
        "    Operations(TIPO _n1 = 0, TIPO _n2 = 0) : n1(_n1), n2(_n2){} // llamamos al constructor de n1 y n2\n",
        "    TIPO Add() { return n1 + n2; }\n",
        " \n",
        "};\n",
        " \n",
        "\n",
        "int main()\n",
        "{\n",
        "    Operations<short>  o1(5, 2); // short\n",
        "    Operations<float> o2(554.44, 4656.86); // float \n",
        "    Operations<lg> o3(55455, 4656845); // lg\n",
        " \n",
        "\n",
        "    cout<<o1.Add()<<endl;\n",
        "    cout<<o2.Add()<<endl; \n",
        "    cout<<o3.Add()<<endl; \n",
        " \n",
        "}\n"
      ],
      "execution_count": 28,
      "outputs": [
        {
          "output_type": "stream",
          "name": "stdout",
          "text": [
            "Overwriting templates2.cpp\n"
          ]
        }
      ]
    },
    {
      "cell_type": "code",
      "metadata": {
        "colab": {
          "base_uri": "https://localhost:8080/"
        },
        "id": "0weuXeKKNnON",
        "outputId": "df1987b1-a377-4b48-fa89-fc2de810d734"
      },
      "source": [
        "!g++ templates2.cpp -o s1 &&  ./s1"
      ],
      "execution_count": 29,
      "outputs": [
        {
          "output_type": "stream",
          "name": "stdout",
          "text": [
            "7\n",
            "5211.3\n",
            "4712300\n"
          ]
        }
      ]
    },
    {
      "cell_type": "code",
      "metadata": {
        "colab": {
          "base_uri": "https://localhost:8080/"
        },
        "id": "rRwZcRDjNyfz",
        "outputId": "aef8f556-c601-40d1-fba9-e6a39e32f4eb"
      },
      "source": [
        "%%writefile trabajoFinal.cpp\n",
        "\n",
        "#include<iostream>\n",
        " \n",
        "\n",
        "using namespace std;\n",
        "\n",
        "class Aliado\n",
        "{\n",
        "   int x, y;\n",
        "\n",
        "public: \n",
        "    Aliado(int n1 = 0, int n2 = 0): x(n1), y(n2){}\n",
        "\n",
        "    int GetX(){return x;}\n",
        "    int GetY(){return y;}\n",
        "\n",
        "};\n",
        "\n",
        "class  Agente\n",
        "{\n",
        "   string nombre;\n",
        "public:\n",
        "\n",
        "    Agente(string n) : nombre(n){}\n",
        "};\n",
        "\n",
        "\n",
        "template<class TIPO>\n",
        "\n",
        "class Arreglo\n",
        "{\n",
        "  int size;\n",
        "  TIPO* arr;   \n",
        "  \n",
        "public:\n",
        "\n",
        "    Arreglo()\n",
        "    {\n",
        "        size = 0;\n",
        "        arr = new TIPO[10];\n",
        "    }\n",
        "\n",
        "    void Insertar(TIPO o)\n",
        "    {\n",
        "        \n",
        "        if(size<10)\n",
        "        arr[size++] = o;\n",
        "\n",
        "\n",
        "        //arr.puch_back(o);\n",
        "    }\n",
        "\n",
        "    TIPO GetObj(int i){return arr[i];}\n",
        "};\n",
        "\n",
        "\n",
        "int main()\n",
        "{\n",
        "        \n",
        "Arreglo<int> numeros;\n",
        "Arreglo<Aliado> aliados;\n",
        "\n",
        " \n",
        "numeros.Insertar(5); \n",
        "cout<<numeros.GetObj(0)<<endl;\n",
        "\n",
        "\n",
        "//aliados.Insertar(Aliado(1));\n",
        "\n",
        "aliados.Insertar(Aliado(5, 4));\n",
        "cout<<aliados.GetObj(0).GetX()<<endl;\n",
        "cout<<aliados.GetObj(0).GetY()<<endl;\n",
        "\n",
        "\n",
        " \n",
        "    return 0;\n",
        "}\n",
        "\n",
        "\n"
      ],
      "execution_count": 66,
      "outputs": [
        {
          "output_type": "stream",
          "name": "stdout",
          "text": [
            "Overwriting trabajoFinal.cpp\n"
          ]
        }
      ]
    },
    {
      "cell_type": "code",
      "metadata": {
        "colab": {
          "base_uri": "https://localhost:8080/"
        },
        "id": "7BQczvASV-uJ",
        "outputId": "9a517620-b9b4-40c8-f702-78280e5df8da"
      },
      "source": [
        "!g++ trabajoFinal.cpp -o s3 && ./s3\n"
      ],
      "execution_count": 67,
      "outputs": [
        {
          "output_type": "stream",
          "name": "stdout",
          "text": [
            "5\n",
            "5\n",
            "4\n"
          ]
        }
      ]
    },
    {
      "cell_type": "code",
      "metadata": {
        "id": "NOlf7UquZHOD"
      },
      "source": [
        ""
      ],
      "execution_count": null,
      "outputs": []
    }
  ]
}