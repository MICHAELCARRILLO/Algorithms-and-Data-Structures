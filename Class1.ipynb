{
  "nbformat": 4,
  "nbformat_minor": 0,
  "metadata": {
    "colab": {
      "name": "Class1.ipynb",
      "provenance": [],
      "collapsed_sections": [],
      "authorship_tag": "ABX9TyNWylGV0lpxNrybr5hRqRh3"
    },
    "kernelspec": {
      "name": "python3",
      "display_name": "Python 3"
    },
    "language_info": {
      "name": "python"
    }
  },
  "cells": [
    {
      "cell_type": "markdown",
      "metadata": {
        "id": "fISK_LHnFhQ0"
      },
      "source": [
        ""
      ]
    },
    {
      "cell_type": "markdown",
      "metadata": {
        "id": "lOkViNORFh31"
      },
      "source": [
        "#Clase 1\n"
      ]
    },
    {
      "cell_type": "markdown",
      "metadata": {
        "id": "pfu7OiPTN8wb"
      },
      "source": [
        "##Introduction"
      ]
    },
    {
      "cell_type": "code",
      "metadata": {
        "id": "sc6J19bx4TAV",
        "colab": {
          "base_uri": "https://localhost:8080/"
        },
        "outputId": "d2529fe2-b52c-4c0c-93eb-9b40210e220c"
      },
      "source": [
        "%%writefile class1.cpp\n",
        "#include<iostream>\n",
        "using namespace std;\n",
        "\n",
        "int main()\n",
        "{\n",
        "    cout<<\"Hello world!\";\n",
        "    return 0;\n",
        "}"
      ],
      "execution_count": 57,
      "outputs": [
        {
          "output_type": "stream",
          "text": [
            "Overwriting class1.cpp\n"
          ],
          "name": "stdout"
        }
      ]
    },
    {
      "cell_type": "code",
      "metadata": {
        "id": "ZSOxmtkr8rxQ"
      },
      "source": [
        "#En este apartado SOLO se esta compilando (creacion de archivo a.out en files) \n",
        "#El compilador se llama g++     \n",
        "!g++ class1.cpp"
      ],
      "execution_count": 58,
      "outputs": []
    },
    {
      "cell_type": "code",
      "metadata": {
        "colab": {
          "base_uri": "https://localhost:8080/"
        },
        "id": "xg_zus0A9ylR",
        "outputId": "b4ae02e9-4113-4ea0-e269-54d470b0a0d4"
      },
      "source": [
        "#Ejecucion del binario creado (a.out)\n",
        "#El simbolo '!' significa: Ejecutar comando de shell \n",
        "\n",
        "!./a.out\n",
        "\n",
        "#En visual studio, el triagulo para ejecutar el programa hace literalmente esto: \n",
        "# !g++ class1.cpp && ./a.out\n",
        "#Osea, compila y ejecuta con ese boton"
      ],
      "execution_count": 59,
      "outputs": [
        {
          "output_type": "stream",
          "text": [
            "Hello world!"
          ],
          "name": "stdout"
        }
      ]
    },
    {
      "cell_type": "code",
      "metadata": {
        "colab": {
          "base_uri": "https://localhost:8080/"
        },
        "id": "6KEba1_a_bHx",
        "outputId": "46d16c50-fe5f-4c7f-fb6c-b326712314f6"
      },
      "source": [
        "#Compilar y ejecutar en una sola linea\n",
        "!g++ class1.cpp && ./a.out"
      ],
      "execution_count": 60,
      "outputs": [
        {
          "output_type": "stream",
          "text": [
            "Hello world!"
          ],
          "name": "stdout"
        }
      ]
    },
    {
      "cell_type": "code",
      "metadata": {
        "colab": {
          "base_uri": "https://localhost:8080/"
        },
        "id": "CmLb7_Z7ANpa",
        "outputId": "3c1069fe-b6c7-4c39-8772-2a473b800314"
      },
      "source": [
        "# despues, decimos que '-o' osea, la salida o binario quiero que se llame 's' y despues solo ejecutamos\n",
        "#Lo que hacemos aqui es, simplemente, llamar al compilador, creamos un objecto del archivo class1.cpp\n",
        "!g++ class1.cpp -o s && ./s"
      ],
      "execution_count": 61,
      "outputs": [
        {
          "output_type": "stream",
          "text": [
            "Hello world!"
          ],
          "name": "stdout"
        }
      ]
    },
    {
      "cell_type": "code",
      "metadata": {
        "colab": {
          "base_uri": "https://localhost:8080/"
        },
        "id": "NhY7kF5tBKzx",
        "outputId": "16093ac4-396d-4cd0-c020-15d93a05e3a3"
      },
      "source": [
        "!g++ class1.cpp -o s && ./s"
      ],
      "execution_count": 62,
      "outputs": [
        {
          "output_type": "stream",
          "text": [
            "Hello world!"
          ],
          "name": "stdout"
        }
      ]
    },
    {
      "cell_type": "code",
      "metadata": {
        "colab": {
          "base_uri": "https://localhost:8080/"
        },
        "id": "BHvCTp3XBTZI",
        "outputId": "388ba1da-fa7c-4de7-fb23-4aa835c1e993"
      },
      "source": [
        "%%writefile example.cpp\n",
        "\n",
        "#include<iostream>\n",
        "\n",
        "using namespace std;\n",
        "\n",
        "\n",
        "int main()\n",
        "{\n",
        "    \n",
        "  int n;\n",
        " \n",
        "  cout<<\"Ingrese un numero: \";\n",
        "  cin>>n;\n",
        " \n",
        "  cout<<\"El numero es: \"<<n<<endl;\n",
        "\n",
        "\n",
        "    return 0;\n",
        "}"
      ],
      "execution_count": 63,
      "outputs": [
        {
          "output_type": "stream",
          "text": [
            "Overwriting example.cpp\n"
          ],
          "name": "stdout"
        }
      ]
    },
    {
      "cell_type": "code",
      "metadata": {
        "colab": {
          "base_uri": "https://localhost:8080/"
        },
        "id": "Ty9EwJWADgfs",
        "outputId": "28ac1bb7-4cbe-46cb-ecd0-3e19503cf299"
      },
      "source": [
        "!g++ example.cpp -o s && ./s"
      ],
      "execution_count": 64,
      "outputs": [
        {
          "output_type": "stream",
          "text": [
            "Ingrese un numero: 5\n",
            "El numero es: 5\n"
          ],
          "name": "stdout"
        }
      ]
    },
    {
      "cell_type": "code",
      "metadata": {
        "colab": {
          "base_uri": "https://localhost:8080/"
        },
        "id": "SD4zCjTeEX7B",
        "outputId": "2957e672-61c4-4c94-bad6-c6563741680f"
      },
      "source": [
        "!g++ example.cpp && ./a.out"
      ],
      "execution_count": 65,
      "outputs": [
        {
          "output_type": "stream",
          "text": [
            "Ingrese un numero: 8\n",
            "El numero es: 8\n"
          ],
          "name": "stdout"
        }
      ]
    },
    {
      "cell_type": "code",
      "metadata": {
        "colab": {
          "base_uri": "https://localhost:8080/"
        },
        "id": "c120xlB_EdzA",
        "outputId": "605ed349-fbe3-4ed5-cf6c-f8700466d068"
      },
      "source": [
        "!g++ example.cpp -o s && ./s"
      ],
      "execution_count": 66,
      "outputs": [
        {
          "output_type": "stream",
          "text": [
            "Ingrese un numero: 8\n",
            "El numero es: 8\n"
          ],
          "name": "stdout"
        }
      ]
    },
    {
      "cell_type": "markdown",
      "metadata": {
        "id": "D5ht9Xr5OBYy"
      },
      "source": [
        "##Templates"
      ]
    },
    {
      "cell_type": "code",
      "metadata": {
        "colab": {
          "base_uri": "https://localhost:8080/"
        },
        "id": "OZPSGnXHOCo3",
        "outputId": "66adc973-4f67-42dc-93fd-5a240d4cdf1a"
      },
      "source": [
        "%%writefile templates.cpp\n",
        "\n",
        "#include<iostream>\n",
        "using namespace std;\n",
        "\n",
        "\n",
        "class Operations\n",
        "{\n",
        "  int n1, n2;\n",
        " public: \n",
        "\n",
        "    Operations(int _n1, int _n2)\n",
        "    {\n",
        "        n1 = _n1;\n",
        "        n2 = _n2;\n",
        "    }\n",
        "\n",
        "    Operations(int _n1)\n",
        "    {\n",
        "        n1 = _n1;\n",
        "        n2 = 0;\n",
        "    }\n",
        "\n",
        "    Operations()\n",
        "    {\n",
        "        n1 = 0;\n",
        "        n2 = 0;\n",
        "    }\n",
        " \n",
        "    void Show()\n",
        "    {\n",
        "      cout<<\"N1: \"<<n1<<endl;\n",
        "      cout<<\"N2: \"<<n2<<endl;\n",
        "      cout<<endl;\n",
        "     \n",
        "    }\n",
        "};\n",
        "\n",
        "\n",
        "\n",
        "int main()\n",
        "{\n",
        "    Operations o1;\n",
        "    Operations o2(2);\n",
        "    Operations o3(2, 5);\n",
        " \n",
        "    o1.Show();\n",
        "    o2.Show();\n",
        "    o3.Show();\n",
        "}\n"
      ],
      "execution_count": 82,
      "outputs": [
        {
          "output_type": "stream",
          "text": [
            "Overwriting templates.cpp\n"
          ],
          "name": "stdout"
        }
      ]
    },
    {
      "cell_type": "code",
      "metadata": {
        "colab": {
          "base_uri": "https://localhost:8080/"
        },
        "id": "QMjJ6sV7UUdN",
        "outputId": "8792cca0-a91f-406d-de6e-a5695fb745ba"
      },
      "source": [
        "!g++ templates.cpp -o s && ./s"
      ],
      "execution_count": 83,
      "outputs": [
        {
          "output_type": "stream",
          "text": [
            "N1: 0\n",
            "N2: 0\n",
            "\n",
            "N1: 2\n",
            "N2: 0\n",
            "\n",
            "N1: 2\n",
            "N2: 5\n",
            "\n"
          ],
          "name": "stdout"
        }
      ]
    },
    {
      "cell_type": "code",
      "metadata": {
        "colab": {
          "base_uri": "https://localhost:8080/"
        },
        "id": "lw_0klnNUfeY",
        "outputId": "97f8bc2e-1fb5-4816-bbce-cc6c33f4e0b4"
      },
      "source": [
        "%%writefile templates1.cpp\n",
        "\n",
        "#include<iostream>\n",
        "using namespace std;\n",
        "\n",
        "\n",
        "class Operations\n",
        "{\n",
        "  int n1, n2;\n",
        " public: \n",
        "\n",
        "    Operations(int _n1 = 0, int _n2 = 0) : n1(_n1), n2(_n2){} // llamamos al constructor de n1 y n2\n",
        " \n",
        " \n",
        "    void Show()\n",
        "    {\n",
        "      cout<<\"N1: \"<<n1<<endl;\n",
        "      cout<<\"N2: \"<<n2<<endl;\n",
        "      cout<<endl;\n",
        "     \n",
        "    }\n",
        "};\n",
        "\n",
        "\n",
        "\n",
        "int main()\n",
        "{\n",
        "    Operations o1;\n",
        "    Operations o2(2);\n",
        "    Operations o3(2, 5);\n",
        " \n",
        "    o1.Show();\n",
        "    o2.Show();\n",
        "    o3.Show();\n",
        "}\n"
      ],
      "execution_count": 86,
      "outputs": [
        {
          "output_type": "stream",
          "text": [
            "Overwriting templates1.cpp\n"
          ],
          "name": "stdout"
        }
      ]
    },
    {
      "cell_type": "code",
      "metadata": {
        "colab": {
          "base_uri": "https://localhost:8080/"
        },
        "id": "a_v_raCzVUti",
        "outputId": "730da8ed-adc3-446d-c395-b7d6f6f2c012"
      },
      "source": [
        "!g++ templates1.cpp -o s && ./s"
      ],
      "execution_count": 87,
      "outputs": [
        {
          "output_type": "stream",
          "text": [
            "N1: 0\n",
            "N2: 0\n",
            "\n",
            "N1: 2\n",
            "N2: 0\n",
            "\n",
            "N1: 2\n",
            "N2: 5\n",
            "\n"
          ],
          "name": "stdout"
        }
      ]
    },
    {
      "cell_type": "code",
      "metadata": {
        "id": "UwgUyYCnVegA"
      },
      "source": [
        ""
      ],
      "execution_count": null,
      "outputs": []
    }
  ]
}